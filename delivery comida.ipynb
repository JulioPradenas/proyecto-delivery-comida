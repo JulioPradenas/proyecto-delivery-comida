{
 "cells": [
  {
   "cell_type": "code",
   "execution_count": 189,
   "metadata": {},
   "outputs": [],
   "source": [
    "import pandas as pd"
   ]
  },
  {
   "cell_type": "code",
   "execution_count": 190,
   "metadata": {},
   "outputs": [],
   "source": [
    "pedidos_comida=pd.read_csv(\"food_orders_new_delhi.csv\")"
   ]
  },
  {
   "cell_type": "code",
   "execution_count": 191,
   "metadata": {},
   "outputs": [
    {
     "name": "stdout",
     "output_type": "stream",
     "text": [
      "   Order ID Customer ID Restaurant ID  Order Date and Time  \\\n",
      "0         1       C8270         R2924  2024-02-01 01:11:52   \n",
      "1         2       C1860         R2054  2024-02-02 22:11:04   \n",
      "2         3       C6390         R2870  2024-01-31 05:54:35   \n",
      "3         4       C6191         R2642  2024-01-16 22:52:49   \n",
      "4         5       C6734         R2799  2024-01-29 01:19:30   \n",
      "\n",
      "  Delivery Date and Time  Order Value  Delivery Fee    Payment Method  \\\n",
      "0    2024-02-01 02:39:52         1914             0       Credit Card   \n",
      "1    2024-02-02 22:46:04          986            40    Digital Wallet   \n",
      "2    2024-01-31 06:52:35          937            30  Cash on Delivery   \n",
      "3    2024-01-16 23:38:49         1463            50  Cash on Delivery   \n",
      "4    2024-01-29 02:48:30         1992            30  Cash on Delivery   \n",
      "\n",
      "  Discounts and Offers  Commission Fee  Payment Processing Fee  \\\n",
      "0            5% on App             150                      47   \n",
      "1                  10%             198                      23   \n",
      "2         15% New User             195                      45   \n",
      "3                  NaN             146                      27   \n",
      "4         50 off Promo             130                      50   \n",
      "\n",
      "   Refunds/Chargebacks  \n",
      "0                    0  \n",
      "1                    0  \n",
      "2                    0  \n",
      "3                    0  \n",
      "4                    0  \n"
     ]
    }
   ],
   "source": [
    "print(pedidos_comida.head())\n"
   ]
  },
  {
   "cell_type": "code",
   "execution_count": 192,
   "metadata": {},
   "outputs": [
    {
     "name": "stdout",
     "output_type": "stream",
     "text": [
      "<class 'pandas.core.frame.DataFrame'>\n",
      "RangeIndex: 1000 entries, 0 to 999\n",
      "Data columns (total 12 columns):\n",
      " #   Column                  Non-Null Count  Dtype \n",
      "---  ------                  --------------  ----- \n",
      " 0   Order ID                1000 non-null   int64 \n",
      " 1   Customer ID             1000 non-null   object\n",
      " 2   Restaurant ID           1000 non-null   object\n",
      " 3   Order Date and Time     1000 non-null   object\n",
      " 4   Delivery Date and Time  1000 non-null   object\n",
      " 5   Order Value             1000 non-null   int64 \n",
      " 6   Delivery Fee            1000 non-null   int64 \n",
      " 7   Payment Method          1000 non-null   object\n",
      " 8   Discounts and Offers    815 non-null    object\n",
      " 9   Commission Fee          1000 non-null   int64 \n",
      " 10  Payment Processing Fee  1000 non-null   int64 \n",
      " 11  Refunds/Chargebacks     1000 non-null   int64 \n",
      "dtypes: int64(6), object(6)\n",
      "memory usage: 93.9+ KB\n",
      "None\n"
     ]
    }
   ],
   "source": [
    "print(pedidos_comida.info())"
   ]
  },
  {
   "cell_type": "markdown",
   "metadata": {},
   "source": [
    "#Data cleaning \n",
    "conversion columnas hora y fecha a datetime"
   ]
  },
  {
   "cell_type": "code",
   "execution_count": 193,
   "metadata": {},
   "outputs": [],
   "source": [
    "pedidos_comida['order date and time']=pd.to_datetime(pedidos_comida['Order Date and Time'])\n",
    "pedidos_comida['Delivery Date and Time']=pd.to_datetime(pedidos_comida['Delivery Date and Time'])"
   ]
  },
  {
   "cell_type": "markdown",
   "metadata": {},
   "source": [
    "#verificar valores monetarios en formato correcto para realizar calculos\n",
    "se  crea una funcion para extraer valores numericos desde 'discount and offers'"
   ]
  },
  {
   "cell_type": "code",
   "execution_count": 194,
   "metadata": {},
   "outputs": [],
   "source": [
    "def extraer_descuento(discount_str):\n",
    "    if 'off' in discount_str:\n",
    "        #monto fijo\n",
    "        return float(discount_str.split(' ')[0])\n",
    "    elif '%'in discount_str:\n",
    "        #porcentaje descuento\n",
    "        return float(discount_str.split('%')[0])\n",
    "    else:\n",
    "        #sin descuento\n",
    "        return 0.0"
   ]
  },
  {
   "cell_type": "markdown",
   "metadata": {},
   "source": [
    "#aplicar la funcion para crear  columna 'nuevo descuento'"
   ]
  },
  {
   "cell_type": "code",
   "execution_count": 195,
   "metadata": {},
   "outputs": [],
   "source": [
    "pedidos_comida['discount percentage'] = pedidos_comida['Discounts and Offers'].astype(str).apply(lambda x: extraer_descuento(x))\n"
   ]
  },
  {
   "cell_type": "markdown",
   "metadata": {},
   "source": [
    "#para porcentajes de descuento, calcular el descuento basado en el precio del pedido"
   ]
  },
  {
   "cell_type": "code",
   "execution_count": 196,
   "metadata": {},
   "outputs": [],
   "source": [
    "pedidos_comida['discount amount']=pedidos_comida.apply(lambda x: (x['Order Value'] * x['discount percentage'] /100)\n",
    "                                                                  if x['discount percentage'] >1\n",
    "                                                                  else x['discount percentage'], axis=1)"
   ]
  },
  {
   "cell_type": "markdown",
   "metadata": {},
   "source": [
    "#ajustar 'discount amount' para descuentos fijos drectamente especificados en la columna 'discount offers'"
   ]
  },
  {
   "cell_type": "code",
   "execution_count": 197,
   "metadata": {},
   "outputs": [],
   "source": [
    "pedidos_comida['discount amount']=pedidos_comida.apply(lambda x: x['discount amount'] if x['discount percentage'] <=1\n",
    "                                                       else x['Order Value'] *x['discount percentage'] /100, axis=1)"
   ]
  },
  {
   "cell_type": "code",
   "execution_count": 198,
   "metadata": {},
   "outputs": [
    {
     "name": "stdout",
     "output_type": "stream",
     "text": [
      "   Order Value Discounts and Offers  discount percentage  discount amount\n",
      "0         1914            5% on App                  5.0            95.70\n",
      "1          986                  10%                 10.0            98.60\n",
      "2          937         15% New User                 15.0           140.55\n",
      "3         1463                  NaN                  0.0             0.00\n",
      "4         1992         50 off Promo                 50.0           996.00 Order ID                           int64\n",
      "Customer ID                       object\n",
      "Restaurant ID                     object\n",
      "Order Date and Time               object\n",
      "Delivery Date and Time    datetime64[ns]\n",
      "Order Value                        int64\n",
      "Delivery Fee                       int64\n",
      "Payment Method                    object\n",
      "Discounts and Offers              object\n",
      "Commission Fee                     int64\n",
      "Payment Processing Fee             int64\n",
      "Refunds/Chargebacks                int64\n",
      "order date and time       datetime64[ns]\n",
      "discount percentage              float64\n",
      "discount amount                  float64\n",
      "dtype: object\n"
     ]
    }
   ],
   "source": [
    "print(pedidos_comida[['Order Value','Discounts and Offers', 'discount percentage','discount amount']].head(), pedidos_comida.dtypes)"
   ]
  },
  {
   "cell_type": "markdown",
   "metadata": {},
   "source": [
    "#data cleaning listo\n",
    "order date and time y delivery date and time se trasnformaron  a formato datetime\n",
    "una nueva columna , discount amount , fue creada en base a discount and offers , esto se hizo extrayendo porcentahe de descuentos o montos de descuento fijos, y aplicandolod al valor del pedido.\n",
    "se agrego decuento de porcentaje para representar el descuento a aplicar o el monto fijo durectamente. "
   ]
  },
  {
   "cell_type": "markdown",
   "metadata": {},
   "source": [
    "#\"Análisis de Costos y Rentabilidad\"."
   ]
  },
  {
   "cell_type": "markdown",
   "metadata": {},
   "source": [
    "#Para el análisis de costos, consideraremos los siguientes costos asociados con cada pedido:\n",
    "\n",
    "Tarifa de Entrega: La tarifa cobrada por entregar el pedido.\n",
    "Tarifa de Procesamiento de Pagos: La tarifa por procesar el pago.\n",
    "Monto del Descuento: El descuento proporcionado en el pedido.\n",
    "Calcularemos el costo total para la plataforma por pedido y luego agregaremos estos datos para comprender la estructura de costos en general.\n",
    "\n",
    "Los ingresos para la plataforma se derivan principalmente de la Tarifa de Comisión. Calcularemos la ganancia neta restando los costos totales (incluidos los descuentos) de los ingresos generados a través de las tarifas de comisión."
   ]
  },
  {
   "cell_type": "code",
   "execution_count": 202,
   "metadata": {},
   "outputs": [
    {
     "name": "stdout",
     "output_type": "stream",
     "text": [
      "{'Total Orders': 1000, 'Total Revenue': 126990, 'Total Costs': 232709.85, 'Total Profit': -105719.85}\n"
     ]
    }
   ],
   "source": [
    "#calculo de rentabilidad por pedido\n",
    "\n",
    "pedidos_comida['Total Costs']=pedidos_comida['Delivery Fee']+ pedidos_comida['Payment Processing Fee']+pedidos_comida['discount amount']\n",
    "pedidos_comida['Revenue']=pedidos_comida['Commission Fee']\n",
    "pedidos_comida['Profit']=pedidos_comida['Revenue']-pedidos_comida['total costs']\n",
    "\n",
    "# agrgar datos para obtener metricas generales\n",
    "\n",
    "total_orders = pedidos_comida.shape[0]\n",
    "total_revenue = pedidos_comida['Revenue'].sum()\n",
    "total_costs = pedidos_comida['Total Costs'].sum()\n",
    "total_profit = pedidos_comida['Profit'].sum()\n",
    "\n",
    "overall_metrics = {\n",
    "    \"Total Orders\": total_orders,\n",
    "    \"Total Revenue\": total_revenue,\n",
    "    \"Total Costs\": total_costs,\n",
    "    \"Total Profit\": total_profit\n",
    "}\n",
    "\n",
    "print(overall_metrics)\n"
   ]
  }
 ],
 "metadata": {
  "kernelspec": {
   "display_name": "base",
   "language": "python",
   "name": "python3"
  },
  "language_info": {
   "codemirror_mode": {
    "name": "ipython",
    "version": 3
   },
   "file_extension": ".py",
   "mimetype": "text/x-python",
   "name": "python",
   "nbconvert_exporter": "python",
   "pygments_lexer": "ipython3",
   "version": "3.11.5"
  }
 },
 "nbformat": 4,
 "nbformat_minor": 2
}
